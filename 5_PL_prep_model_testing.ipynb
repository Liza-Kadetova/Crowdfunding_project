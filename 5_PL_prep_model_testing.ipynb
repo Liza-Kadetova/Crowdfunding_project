{
 "cells": [
  {
   "cell_type": "code",
   "execution_count": 4,
   "metadata": {},
   "outputs": [
    {
     "name": "stdout",
     "output_type": "stream",
     "text": [
      "                                      precision    recall  f1-score   support\n",
      "\n",
      "   активизм_просвещение_профилактика       0.55      0.29      0.37        21\n",
      "                    бездомные_кризис       0.90      1.00      0.95         9\n",
      "       взрослые_лечение_реабилитация       0.64      0.39      0.48        18\n",
      "           дети_лечение_реабилитация       0.81      0.91      0.86       134\n",
      "                            животные       0.94      0.98      0.96        61\n",
      "                         заключенные       0.00      0.00      0.00         1\n",
      "                 малоимущие_бедность       0.69      0.53      0.60        17\n",
      "             мечты_подарки_праздники       0.79      0.65      0.71        23\n",
      "              наука_история_культура       0.00      0.00      0.00         3\n",
      "                      паллиатив_уход       0.91      0.71      0.80        14\n",
      "                    пожилые_ветераны       0.90      0.82      0.86        11\n",
      "         развитие_нко_инфраструктура       0.43      0.29      0.34        21\n",
      "                     семейный_кризис       0.60      0.86      0.71         7\n",
      "сироты_дети_из_неблагополучных семей       0.72      0.83      0.77        66\n",
      "            социализация_возможности       0.71      0.78      0.74        99\n",
      "                            экология       1.00      0.40      0.57         5\n",
      "\n",
      "                            accuracy                           0.77       510\n",
      "                           macro avg       0.66      0.59      0.61       510\n",
      "                        weighted avg       0.76      0.77      0.76       510\n",
      "\n"
     ]
    }
   ],
   "source": [
    "from prep import Prep"
   ]
  },
  {
   "cell_type": "code",
   "execution_count": 11,
   "metadata": {},
   "outputs": [],
   "source": [
    "clf = load('pipe.joblib') "
   ]
  },
  {
   "cell_type": "code",
   "execution_count": 16,
   "metadata": {},
   "outputs": [
    {
     "data": {
      "text/plain": [
       "array(['дети_лечение_реабилитация'], dtype=object)"
      ]
     },
     "execution_count": 16,
     "metadata": {},
     "output_type": "execute_result"
    }
   ],
   "source": [
    "clf.predict(pd.core.series.Series([\"Мама мыла раму\"]))"
   ]
  },
  {
   "cell_type": "code",
   "execution_count": 53,
   "metadata": {},
   "outputs": [
    {
     "data": {
      "text/plain": [
       "array(['дети_лечение_реабилитация'], dtype=object)"
      ]
     },
     "execution_count": 53,
     "metadata": {},
     "output_type": "execute_result"
    }
   ],
   "source": [
    "clf.predict(pd.core.series.Series(['Человек и кошка плачут у окошка']))"
   ]
  },
  {
   "cell_type": "code",
   "execution_count": 66,
   "metadata": {},
   "outputs": [
    {
     "data": {
      "text/plain": [
       "array(['дети_лечение_реабилитация'], dtype=object)"
      ]
     },
     "execution_count": 66,
     "metadata": {},
     "output_type": "execute_result"
    }
   ],
   "source": [
    "clf.predict(pd.core.series.Series(['Дай, Джим, на счастье лапу мне. Такую лапу не видал я сроду']))"
   ]
  },
  {
   "cell_type": "code",
   "execution_count": 67,
   "metadata": {},
   "outputs": [
    {
     "data": {
      "text/plain": [
       "array(['дети_лечение_реабилитация'], dtype=object)"
      ]
     },
     "execution_count": 67,
     "metadata": {},
     "output_type": "execute_result"
    }
   ],
   "source": [
    "clf.predict(pd.core.series.Series(['А лисички взяли спички, к морю синему пошли, море синее сожгли']))"
   ]
  },
  {
   "cell_type": "code",
   "execution_count": 68,
   "metadata": {},
   "outputs": [
    {
     "data": {
      "text/plain": [
       "array(['дети_лечение_реабилитация'], dtype=object)"
      ]
     },
     "execution_count": 68,
     "metadata": {},
     "output_type": "execute_result"
    }
   ],
   "source": [
    "clf.predict(pd.core.series.Series(['бездомный бездомный улица дить на улице зима еда ночрег']))"
   ]
  }
 ],
 "metadata": {
  "kernelspec": {
   "display_name": "Python 3",
   "language": "python",
   "name": "python3"
  },
  "language_info": {
   "codemirror_mode": {
    "name": "ipython",
    "version": 3
   },
   "file_extension": ".py",
   "mimetype": "text/x-python",
   "name": "python",
   "nbconvert_exporter": "python",
   "pygments_lexer": "ipython3",
   "version": "3.8.2"
  }
 },
 "nbformat": 4,
 "nbformat_minor": 4
}
