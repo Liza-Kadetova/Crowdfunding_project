{
 "cells": [
  {
   "cell_type": "markdown",
   "metadata": {},
   "source": [
    "# Предсказание непрерывной переменной по тексту: сумма сбора \n",
    "\n",
    "Задача: на материале датасета, состоящего из описаний благотворительных сборов, проверить, может ли модель по тексту предсказывать сумму, которую соберет проект. Можно рассматривать это как проверку наличия зависимости между текстами и успешностью сбора, выраженной через скорость сбора.  "
   ]
  },
  {
   "cell_type": "code",
   "execution_count": 195,
   "metadata": {},
   "outputs": [],
   "source": [
    "from sklearn.linear_model import LinearRegression, Lasso, Ridge, LogisticRegression\n",
    "from sklearn.ensemble import RandomForestRegressor\n",
    "from sklearn.model_selection import train_test_split\n",
    "from sklearn.metrics import classification_report, f1_score, r2_score\n",
    "from sklearn.feature_extraction.text import CountVectorizer, TfidfVectorizer\n",
    "import pandas as pd\n",
    "import pymorphy2\n",
    "morph_analyzer = pymorphy2.MorphAnalyzer()\n",
    "from nltk.corpus import stopwords\n",
    "from string import digits\n",
    "import re\n",
    "import numpy as np\n",
    "from nltk import word_tokenize\n",
    "from scipy.sparse import csr_matrix\n",
    "from collections import Counter"
   ]
  },
  {
   "cell_type": "code",
   "execution_count": 2,
   "metadata": {},
   "outputs": [],
   "source": [
    "# pip install gensim"
   ]
  },
  {
   "cell_type": "code",
   "execution_count": 6,
   "metadata": {},
   "outputs": [],
   "source": [
    "import gensim"
   ]
  },
  {
   "cell_type": "markdown",
   "metadata": {},
   "source": [
    "### Импорт данных"
   ]
  },
  {
   "cell_type": "code",
   "execution_count": 8,
   "metadata": {
    "collapsed": true,
    "jupyter": {
     "outputs_hidden": true
    }
   },
   "outputs": [
    {
     "ename": "NameError",
     "evalue": "name 'df' is not defined",
     "output_type": "error",
     "traceback": [
      "\u001b[0;31m---------------------------------------------------------------------------\u001b[0m",
      "\u001b[0;31mNameError\u001b[0m                                 Traceback (most recent call last)",
      "\u001b[0;32m<ipython-input-8-5bf1b1db8ca8>\u001b[0m in \u001b[0;36m<module>\u001b[0;34m\u001b[0m\n\u001b[0;32m----> 1\u001b[0;31m \u001b[0;32mdel\u001b[0m \u001b[0mdf\u001b[0m \u001b[0;31m# очистим переменную на вс. случай\u001b[0m\u001b[0;34m\u001b[0m\u001b[0;34m\u001b[0m\u001b[0m\n\u001b[0m",
      "\u001b[0;31mNameError\u001b[0m: name 'df' is not defined"
     ]
    }
   ],
   "source": [
    "del df # очистим переменную"
   ]
  },
  {
   "cell_type": "code",
   "execution_count": 9,
   "metadata": {},
   "outputs": [],
   "source": [
    "df = pd.read_csv('/Users/liza/PycharmProjects/Planeta_project/plset_ver_010.csv')"
   ]
  },
  {
   "cell_type": "code",
   "execution_count": 10,
   "metadata": {},
   "outputs": [
    {
     "data": {
      "text/html": [
       "<div>\n",
       "<style scoped>\n",
       "    .dataframe tbody tr th:only-of-type {\n",
       "        vertical-align: middle;\n",
       "    }\n",
       "\n",
       "    .dataframe tbody tr th {\n",
       "        vertical-align: top;\n",
       "    }\n",
       "\n",
       "    .dataframe thead th {\n",
       "        text-align: right;\n",
       "    }\n",
       "</style>\n",
       "<table border=\"1\" class=\"dataframe\">\n",
       "  <thead>\n",
       "    <tr style=\"text-align: right;\">\n",
       "      <th></th>\n",
       "      <th>Unnamed: 0</th>\n",
       "      <th>Title</th>\n",
       "      <th>Author</th>\n",
       "      <th>Description</th>\n",
       "      <th>Briefly</th>\n",
       "      <th>Goal</th>\n",
       "      <th>Result</th>\n",
       "      <th>Donations</th>\n",
       "      <th>Start</th>\n",
       "      <th>Finish</th>\n",
       "      <th>...</th>\n",
       "      <th>Started</th>\n",
       "      <th>Finished</th>\n",
       "      <th>LeadBag</th>\n",
       "      <th>DaysLong</th>\n",
       "      <th>Cluster</th>\n",
       "      <th>Category</th>\n",
       "      <th>Rate</th>\n",
       "      <th>Names</th>\n",
       "      <th>Adr</th>\n",
       "      <th>NamesSimRate</th>\n",
       "    </tr>\n",
       "  </thead>\n",
       "  <tbody>\n",
       "    <tr>\n",
       "      <th>0</th>\n",
       "      <td>0</td>\n",
       "      <td>Подарим жизнь</td>\n",
       "      <td>Бобруйское общественное объединение защиты жив...</td>\n",
       "      <td>Друзья, рады приветствовать на странице нашего...</td>\n",
       "      <td>Спасение животных от эвтаназии на 5 сутки посл...</td>\n",
       "      <td>10000.0</td>\n",
       "      <td>76100</td>\n",
       "      <td>67</td>\n",
       "      <td>11 сентября 2017</td>\n",
       "      <td>9 ноября 2017</td>\n",
       "      <td>...</td>\n",
       "      <td>11 Sep 2017</td>\n",
       "      <td>9 Nov 2017</td>\n",
       "      <td>['спасение', 'животное', 'эвтаназия', 'сутки',...</td>\n",
       "      <td>59</td>\n",
       "      <td>7</td>\n",
       "      <td>животные</td>\n",
       "      <td>1290.0</td>\n",
       "      <td>['Эгиды']</td>\n",
       "      <td>False</td>\n",
       "      <td>0</td>\n",
       "    </tr>\n",
       "    <tr>\n",
       "      <th>1</th>\n",
       "      <td>1</td>\n",
       "      <td>Оплата нянечек для отказных детей в больницах</td>\n",
       "      <td>Благотворительный фонд \"Дети без мам\"</td>\n",
       "      <td>Когда ребёнок серьёзно болен, он ложится в бол...</td>\n",
       "      <td>Сбор средств на оплату ухода за детьми-сиротам...</td>\n",
       "      <td>150000.0</td>\n",
       "      <td>711665</td>\n",
       "      <td>470</td>\n",
       "      <td>1 июля 2014</td>\n",
       "      <td>16 сентября 2014</td>\n",
       "      <td>...</td>\n",
       "      <td>1 Jul 2014</td>\n",
       "      <td>16 Sep 2014</td>\n",
       "      <td>['сбор', 'средство', 'оплата', 'уход', 'ребёно...</td>\n",
       "      <td>77</td>\n",
       "      <td>0</td>\n",
       "      <td>сироты_дети_из_неблагополучных семей</td>\n",
       "      <td>9240.0</td>\n",
       "      <td>[]</td>\n",
       "      <td>False</td>\n",
       "      <td>0</td>\n",
       "    </tr>\n",
       "    <tr>\n",
       "      <th>2</th>\n",
       "      <td>2</td>\n",
       "      <td>Оплата нянь для детей-отказников в больницах</td>\n",
       "      <td>Благотворительный фонд \"Дети без мам\"</td>\n",
       "      <td>В больницах живут малыши, оставшиеся без попеч...</td>\n",
       "      <td>Сбор средств на уход за детьми-отказниками в б...</td>\n",
       "      <td>50000.0</td>\n",
       "      <td>236257</td>\n",
       "      <td>202</td>\n",
       "      <td>14 октября 2013</td>\n",
       "      <td>16 января 2014</td>\n",
       "      <td>...</td>\n",
       "      <td>14 Oct 2013</td>\n",
       "      <td>16 Jan 2014</td>\n",
       "      <td>['сбор', 'средство', 'уход', 'ребёнок', 'отказ...</td>\n",
       "      <td>94</td>\n",
       "      <td>0</td>\n",
       "      <td>сироты_дети_из_неблагополучных семей</td>\n",
       "      <td>2510.0</td>\n",
       "      <td>['Зою', 'Ксану', 'Анну', 'Юрия', 'Фёдора', 'Ал...</td>\n",
       "      <td>False</td>\n",
       "      <td>11</td>\n",
       "    </tr>\n",
       "    <tr>\n",
       "      <th>3</th>\n",
       "      <td>3</td>\n",
       "      <td>\"Не вешай нос! Или право на жизнь\"</td>\n",
       "      <td>Местная общественная организация защитников жи...</td>\n",
       "      <td>И снова здравствуйте, Друзья! \\nМеня зовут Над...</td>\n",
       "      <td>Цель проекта - ликвидировать долги за ветерина...</td>\n",
       "      <td>29395.0</td>\n",
       "      <td>95300</td>\n",
       "      <td>170</td>\n",
       "      <td>21 февраля 2017</td>\n",
       "      <td>21 апреля 2017</td>\n",
       "      <td>...</td>\n",
       "      <td>21 Feb 2017</td>\n",
       "      <td>21 Apr 2017</td>\n",
       "      <td>['цель', 'проект', 'ликвидировать', 'долг', 'в...</td>\n",
       "      <td>59</td>\n",
       "      <td>7</td>\n",
       "      <td>животные</td>\n",
       "      <td>1620.0</td>\n",
       "      <td>['Надежда', 'Кипиш', 'Островка', 'Маня', 'Хрюн...</td>\n",
       "      <td>False</td>\n",
       "      <td>35</td>\n",
       "    </tr>\n",
       "    <tr>\n",
       "      <th>4</th>\n",
       "      <td>4</td>\n",
       "      <td>Календарь реабилитационного центра для птиц</td>\n",
       "      <td>Вера Пахомова</td>\n",
       "      <td>Привет, друг! Мы снова на Planeta.ru!) \\n  В н...</td>\n",
       "      <td>\"Воронье Гнездо\" собирает средства на печать к...</td>\n",
       "      <td>15000.0</td>\n",
       "      <td>42550</td>\n",
       "      <td>87</td>\n",
       "      <td>9 ноября 2019</td>\n",
       "      <td>8 декабря 2019</td>\n",
       "      <td>...</td>\n",
       "      <td>9 Nov 2019</td>\n",
       "      <td>8 Dec 2019</td>\n",
       "      <td>['воронья', 'гнездо', 'собирать', 'средство', ...</td>\n",
       "      <td>29</td>\n",
       "      <td>4</td>\n",
       "      <td>активизм_просвещение_профилактика</td>\n",
       "      <td>1470.0</td>\n",
       "      <td>[]</td>\n",
       "      <td>False</td>\n",
       "      <td>0</td>\n",
       "    </tr>\n",
       "  </tbody>\n",
       "</table>\n",
       "<p>5 rows × 24 columns</p>\n",
       "</div>"
      ],
      "text/plain": [
       "   Unnamed: 0                                          Title  \\\n",
       "0           0                                  Подарим жизнь   \n",
       "1           1  Оплата нянечек для отказных детей в больницах   \n",
       "2           2   Оплата нянь для детей-отказников в больницах   \n",
       "3           3             \"Не вешай нос! Или право на жизнь\"   \n",
       "4           4    Календарь реабилитационного центра для птиц   \n",
       "\n",
       "                                              Author  \\\n",
       "0  Бобруйское общественное объединение защиты жив...   \n",
       "1              Благотворительный фонд \"Дети без мам\"   \n",
       "2              Благотворительный фонд \"Дети без мам\"   \n",
       "3  Местная общественная организация защитников жи...   \n",
       "4                                      Вера Пахомова   \n",
       "\n",
       "                                         Description  \\\n",
       "0  Друзья, рады приветствовать на странице нашего...   \n",
       "1  Когда ребёнок серьёзно болен, он ложится в бол...   \n",
       "2  В больницах живут малыши, оставшиеся без попеч...   \n",
       "3  И снова здравствуйте, Друзья! \\nМеня зовут Над...   \n",
       "4  Привет, друг! Мы снова на Planeta.ru!) \\n  В н...   \n",
       "\n",
       "                                             Briefly      Goal  Result  \\\n",
       "0  Спасение животных от эвтаназии на 5 сутки посл...   10000.0   76100   \n",
       "1  Сбор средств на оплату ухода за детьми-сиротам...  150000.0  711665   \n",
       "2  Сбор средств на уход за детьми-отказниками в б...   50000.0  236257   \n",
       "3  Цель проекта - ликвидировать долги за ветерина...   29395.0   95300   \n",
       "4  \"Воронье Гнездо\" собирает средства на печать к...   15000.0   42550   \n",
       "\n",
       "   Donations             Start            Finish  ...      Started  \\\n",
       "0         67  11 сентября 2017     9 ноября 2017  ...  11 Sep 2017   \n",
       "1        470       1 июля 2014  16 сентября 2014  ...   1 Jul 2014   \n",
       "2        202   14 октября 2013    16 января 2014  ...  14 Oct 2013   \n",
       "3        170   21 февраля 2017    21 апреля 2017  ...  21 Feb 2017   \n",
       "4         87     9 ноября 2019    8 декабря 2019  ...   9 Nov 2019   \n",
       "\n",
       "      Finished                                            LeadBag  DaysLong  \\\n",
       "0   9 Nov 2017  ['спасение', 'животное', 'эвтаназия', 'сутки',...        59   \n",
       "1  16 Sep 2014  ['сбор', 'средство', 'оплата', 'уход', 'ребёно...        77   \n",
       "2  16 Jan 2014  ['сбор', 'средство', 'уход', 'ребёнок', 'отказ...        94   \n",
       "3  21 Apr 2017  ['цель', 'проект', 'ликвидировать', 'долг', 'в...        59   \n",
       "4   8 Dec 2019  ['воронья', 'гнездо', 'собирать', 'средство', ...        29   \n",
       "\n",
       "  Cluster                              Category    Rate  \\\n",
       "0       7                              животные  1290.0   \n",
       "1       0  сироты_дети_из_неблагополучных семей  9240.0   \n",
       "2       0  сироты_дети_из_неблагополучных семей  2510.0   \n",
       "3       7                              животные  1620.0   \n",
       "4       4     активизм_просвещение_профилактика  1470.0   \n",
       "\n",
       "                                               Names    Adr NamesSimRate  \n",
       "0                                          ['Эгиды']  False            0  \n",
       "1                                                 []  False            0  \n",
       "2  ['Зою', 'Ксану', 'Анну', 'Юрия', 'Фёдора', 'Ал...  False           11  \n",
       "3  ['Надежда', 'Кипиш', 'Островка', 'Маня', 'Хрюн...  False           35  \n",
       "4                                                 []  False            0  \n",
       "\n",
       "[5 rows x 24 columns]"
      ]
     },
     "execution_count": 10,
     "metadata": {},
     "output_type": "execute_result"
    }
   ],
   "source": [
    "df.head()"
   ]
  },
  {
   "cell_type": "code",
   "execution_count": 321,
   "metadata": {},
   "outputs": [],
   "source": [
    "# оказалось, что при переформатировании дат начала и конца сбора старые колонки (с русскими названиями месяцев) не удалились, удалим их \n",
    "\n",
    "df = df.drop(['Start', 'Finish'], axis=1) # “axis 0” represents rows and “axis 1” represents columns.\n",
    "df = df.to_csv(\"plset_ver_011.csv\") # сохраняем датасет\n",
    "df = pd.read_csv('/Users/liza/PycharmProjects/Planeta_project/plset_ver_011.csv')# читаем снова"
   ]
  },
  {
   "cell_type": "markdown",
   "metadata": {},
   "source": [
    "⬆︎ Примечание к drop. When inplace = True, the data is modified in place, which means it will return nothing and the dataframe is now updated. When inplace = False, which is the default, then the operation is performed and it returns a copy of the object. "
   ]
  },
  {
   "cell_type": "code",
   "execution_count": 12,
   "metadata": {},
   "outputs": [
    {
     "data": {
      "text/plain": [
       "Unnamed: 0        int64\n",
       "Unnamed: 0.1      int64\n",
       "Title            object\n",
       "Author           object\n",
       "Description      object\n",
       "Briefly          object\n",
       "Goal            float64\n",
       "Result            int64\n",
       "Donations         int64\n",
       "Start            object\n",
       "Finish           object\n",
       "LengthZn          int64\n",
       "LengthWd          int64\n",
       "NumSent           int64\n",
       "NumSentNLTK       int64\n",
       "Started          object\n",
       "Finished         object\n",
       "LeadBag          object\n",
       "DaysLong          int64\n",
       "Cluster           int64\n",
       "Category         object\n",
       "Rate            float64\n",
       "Names            object\n",
       "Adr                bool\n",
       "NamesSimRate      int64\n",
       "dtype: object"
      ]
     },
     "execution_count": 12,
     "metadata": {},
     "output_type": "execute_result"
    }
   ],
   "source": [
    "df.dtypes # проверим, какие типы данных содержит датасет"
   ]
  },
  {
   "cell_type": "markdown",
   "metadata": {},
   "source": [
    "\\\n",
    "Дальше нас будет интересовать переменная (колонка) Rate. Проверим ее. "
   ]
  },
  {
   "cell_type": "code",
   "execution_count": 13,
   "metadata": {},
   "outputs": [
    {
     "data": {
      "text/plain": [
       "Counter({False: 2038})"
      ]
     },
     "execution_count": 13,
     "metadata": {},
     "output_type": "execute_result"
    }
   ],
   "source": [
    "Counter(pd.isna(df['Rate'] == True)) # есть ли пустые значения (--> нет)"
   ]
  },
  {
   "cell_type": "code",
   "execution_count": 14,
   "metadata": {},
   "outputs": [
    {
     "data": {
      "text/plain": [
       "Counter({True: 2031, False: 7})"
      ]
     },
     "execution_count": 14,
     "metadata": {},
     "output_type": "execute_result"
    }
   ],
   "source": [
    "Counter(np.isfinite(df['Rate'])) # все ли значения - это конечные числа? (--> увы, нет)"
   ]
  },
  {
   "cell_type": "code",
   "execution_count": 15,
   "metadata": {
    "collapsed": true,
    "jupyter": {
     "outputs_hidden": true
    }
   },
   "outputs": [
    {
     "data": {
      "text/html": [
       "<div>\n",
       "<style scoped>\n",
       "    .dataframe tbody tr th:only-of-type {\n",
       "        vertical-align: middle;\n",
       "    }\n",
       "\n",
       "    .dataframe tbody tr th {\n",
       "        vertical-align: top;\n",
       "    }\n",
       "\n",
       "    .dataframe thead th {\n",
       "        text-align: right;\n",
       "    }\n",
       "</style>\n",
       "<table border=\"1\" class=\"dataframe\">\n",
       "  <thead>\n",
       "    <tr style=\"text-align: right;\">\n",
       "      <th></th>\n",
       "      <th>Unnamed: 0</th>\n",
       "      <th>Unnamed: 0.1</th>\n",
       "      <th>Title</th>\n",
       "      <th>Author</th>\n",
       "      <th>Description</th>\n",
       "      <th>Briefly</th>\n",
       "      <th>Goal</th>\n",
       "      <th>Result</th>\n",
       "      <th>Donations</th>\n",
       "      <th>Start</th>\n",
       "      <th>...</th>\n",
       "      <th>Started</th>\n",
       "      <th>Finished</th>\n",
       "      <th>LeadBag</th>\n",
       "      <th>DaysLong</th>\n",
       "      <th>Cluster</th>\n",
       "      <th>Category</th>\n",
       "      <th>Rate</th>\n",
       "      <th>Names</th>\n",
       "      <th>Adr</th>\n",
       "      <th>NamesSimRate</th>\n",
       "    </tr>\n",
       "  </thead>\n",
       "  <tbody>\n",
       "    <tr>\n",
       "      <th>58</th>\n",
       "      <td>58</td>\n",
       "      <td>58</td>\n",
       "      <td>Никита Кольцов: продолжаем бороться</td>\n",
       "      <td>Благотворительный фонд \"Золотце\"</td>\n",
       "      <td>Благотворительный фонд \"Золотце\" создан 7 дека...</td>\n",
       "      <td>Диагноз: перенесенная гипоксия тяжелой формы с...</td>\n",
       "      <td>25000.0</td>\n",
       "      <td>31094</td>\n",
       "      <td>46</td>\n",
       "      <td>20 января</td>\n",
       "      <td>...</td>\n",
       "      <td>20 Jan</td>\n",
       "      <td>4 Feb 2020</td>\n",
       "      <td>['диагноз', 'перенести', 'гипоксия', 'тяжёлый'...</td>\n",
       "      <td>0</td>\n",
       "      <td>0</td>\n",
       "      <td>дети_лечение_реабилитация</td>\n",
       "      <td>inf</td>\n",
       "      <td>['Кольцова', 'Никиты', 'Никиты', 'Никита']</td>\n",
       "      <td>True</td>\n",
       "      <td>61</td>\n",
       "    </tr>\n",
       "    <tr>\n",
       "      <th>97</th>\n",
       "      <td>97</td>\n",
       "      <td>97</td>\n",
       "      <td>Безнадежности - нет!</td>\n",
       "      <td>АНО «ЦСИ «Русский Дом»</td>\n",
       "      <td>Психическое заболевание для человека - это ког...</td>\n",
       "      <td>Проект направлен на поддержку благотворительно...</td>\n",
       "      <td>500000.0</td>\n",
       "      <td>560685</td>\n",
       "      <td>124</td>\n",
       "      <td>31 июля 2018</td>\n",
       "      <td>...</td>\n",
       "      <td>31 Jul 2018</td>\n",
       "      <td>29 Feb 2019</td>\n",
       "      <td>['проект', 'направить', 'поддержка', 'благотво...</td>\n",
       "      <td>0</td>\n",
       "      <td>4</td>\n",
       "      <td>социализация_возможности</td>\n",
       "      <td>inf</td>\n",
       "      <td>['Цветаевой', 'Шиннед', 'Шиннед', 'Андрею', 'М...</td>\n",
       "      <td>False</td>\n",
       "      <td>40</td>\n",
       "    </tr>\n",
       "    <tr>\n",
       "      <th>453</th>\n",
       "      <td>453</td>\n",
       "      <td>453</td>\n",
       "      <td>Вольер-спасатель для приюта \"Тимошка\"</td>\n",
       "      <td>galina.gershkovich</td>\n",
       "      <td>Мы – приют \"Тимошка. Скорая помощь\"!\\nНаш прию...</td>\n",
       "      <td>Как оказать экстренную помощь искалеченному жи...</td>\n",
       "      <td>84720.0</td>\n",
       "      <td>85320</td>\n",
       "      <td>153</td>\n",
       "      <td>22 октября 2019</td>\n",
       "      <td>...</td>\n",
       "      <td>22 Oct 2019</td>\n",
       "      <td>20 Feb</td>\n",
       "      <td>['оказать', 'экстренный', 'помощь', 'искалечит...</td>\n",
       "      <td>0</td>\n",
       "      <td>7</td>\n",
       "      <td>животные</td>\n",
       "      <td>inf</td>\n",
       "      <td>[]</td>\n",
       "      <td>False</td>\n",
       "      <td>0</td>\n",
       "    </tr>\n",
       "    <tr>\n",
       "      <th>488</th>\n",
       "      <td>488</td>\n",
       "      <td>488</td>\n",
       "      <td>Лежачему инвалиду необходима специализированна...</td>\n",
       "      <td>Благотворительный Фонд \"Гольфстрим\"</td>\n",
       "      <td>Дорогие наши!\\n  Благотворительный фонд \"Гольф...</td>\n",
       "      <td>Просим Bас, помочь улучшить качество жизни леж...</td>\n",
       "      <td>45000.0</td>\n",
       "      <td>45100</td>\n",
       "      <td>2</td>\n",
       "      <td>26 апреля 2014</td>\n",
       "      <td>...</td>\n",
       "      <td>26 Apr 2014</td>\n",
       "      <td>26 Apr 2014</td>\n",
       "      <td>['просить', 'ас', 'помочь', 'улучшить', 'качес...</td>\n",
       "      <td>0</td>\n",
       "      <td>11</td>\n",
       "      <td>взрослые_лечение_реабилитация</td>\n",
       "      <td>inf</td>\n",
       "      <td>['Казаков', 'Саше', 'Сашу', 'Сашу', 'Сашина', ...</td>\n",
       "      <td>True</td>\n",
       "      <td>58</td>\n",
       "    </tr>\n",
       "    <tr>\n",
       "      <th>701</th>\n",
       "      <td>701</td>\n",
       "      <td>701</td>\n",
       "      <td>Помощь детскому хоспису</td>\n",
       "      <td>Благотворительный фонд «Дом с маяком»</td>\n",
       "      <td>Когда Мурад только появился на свет, родители ...</td>\n",
       "      <td>Для того, чтобы Мурад чувствовал себя хорошо и...</td>\n",
       "      <td>567336.0</td>\n",
       "      <td>567372</td>\n",
       "      <td>906</td>\n",
       "      <td>19 июня 2019</td>\n",
       "      <td>...</td>\n",
       "      <td>19 Jun 2019</td>\n",
       "      <td>20 Feb</td>\n",
       "      <td>['мурад', 'чувствовать', 'оставаться', 'дом', ...</td>\n",
       "      <td>0</td>\n",
       "      <td>11</td>\n",
       "      <td>дети_лечение_реабилитация</td>\n",
       "      <td>inf</td>\n",
       "      <td>['Мурад', 'Мурад', 'Мурадом', 'Мурада', 'Гиршп...</td>\n",
       "      <td>True</td>\n",
       "      <td>77</td>\n",
       "    </tr>\n",
       "    <tr>\n",
       "      <th>1286</th>\n",
       "      <td>1286</td>\n",
       "      <td>1286</td>\n",
       "      <td>УЛИЦА СЕЗАМ</td>\n",
       "      <td>\"Центр по предоставлению государственных услуг...</td>\n",
       "      <td>Наша команда - Центр социальной защиты населен...</td>\n",
       "      <td>приобретение ростовых кукол и кукол-перчаток д...</td>\n",
       "      <td>65000.0</td>\n",
       "      <td>8987</td>\n",
       "      <td>26</td>\n",
       "      <td>6 сентября 2019</td>\n",
       "      <td>...</td>\n",
       "      <td>6 Sep 2019</td>\n",
       "      <td>20 Mar</td>\n",
       "      <td>['приобретение', 'ростовый', 'кукла', 'кукла',...</td>\n",
       "      <td>0</td>\n",
       "      <td>10</td>\n",
       "      <td>социализация_возможности</td>\n",
       "      <td>inf</td>\n",
       "      <td>['Зелибобу', 'Бусинку', 'Кубика']</td>\n",
       "      <td>False</td>\n",
       "      <td>36</td>\n",
       "    </tr>\n",
       "    <tr>\n",
       "      <th>1396</th>\n",
       "      <td>1396</td>\n",
       "      <td>1396</td>\n",
       "      <td>Разбудить Ваню</td>\n",
       "      <td>Некоммерческое партнерство Международный благо...</td>\n",
       "      <td>Благотворительный центр «Надежда»  официально ...</td>\n",
       "      <td>Ване 8 лет. Диагноз: Ранний детский аутизм - п...</td>\n",
       "      <td>107000.0</td>\n",
       "      <td>10202</td>\n",
       "      <td>41</td>\n",
       "      <td>13 июня 2019</td>\n",
       "      <td>...</td>\n",
       "      <td>13 Jun 2019</td>\n",
       "      <td>20 Mar</td>\n",
       "      <td>['ван', 'год', 'диагноз', 'ранний', 'детский',...</td>\n",
       "      <td>0</td>\n",
       "      <td>1</td>\n",
       "      <td>дети_лечение_реабилитация</td>\n",
       "      <td>inf</td>\n",
       "      <td>['Вани', 'Ваню', 'Ваня', 'Вани', 'Ваню', 'Ваня...</td>\n",
       "      <td>True</td>\n",
       "      <td>76</td>\n",
       "    </tr>\n",
       "  </tbody>\n",
       "</table>\n",
       "<p>7 rows × 25 columns</p>\n",
       "</div>"
      ],
      "text/plain": [
       "      Unnamed: 0  Unnamed: 0.1  \\\n",
       "58            58            58   \n",
       "97            97            97   \n",
       "453          453           453   \n",
       "488          488           488   \n",
       "701          701           701   \n",
       "1286        1286          1286   \n",
       "1396        1396          1396   \n",
       "\n",
       "                                                  Title  \\\n",
       "58                  Никита Кольцов: продолжаем бороться   \n",
       "97                                 Безнадежности - нет!   \n",
       "453               Вольер-спасатель для приюта \"Тимошка\"   \n",
       "488   Лежачему инвалиду необходима специализированна...   \n",
       "701                             Помощь детскому хоспису   \n",
       "1286                                        УЛИЦА СЕЗАМ   \n",
       "1396                                     Разбудить Ваню   \n",
       "\n",
       "                                                 Author  \\\n",
       "58                     Благотворительный фонд \"Золотце\"   \n",
       "97                               АНО «ЦСИ «Русский Дом»   \n",
       "453                                  galina.gershkovich   \n",
       "488                 Благотворительный Фонд \"Гольфстрим\"   \n",
       "701               Благотворительный фонд «Дом с маяком»   \n",
       "1286  \"Центр по предоставлению государственных услуг...   \n",
       "1396  Некоммерческое партнерство Международный благо...   \n",
       "\n",
       "                                            Description  \\\n",
       "58    Благотворительный фонд \"Золотце\" создан 7 дека...   \n",
       "97    Психическое заболевание для человека - это ког...   \n",
       "453   Мы – приют \"Тимошка. Скорая помощь\"!\\nНаш прию...   \n",
       "488   Дорогие наши!\\n  Благотворительный фонд \"Гольф...   \n",
       "701   Когда Мурад только появился на свет, родители ...   \n",
       "1286  Наша команда - Центр социальной защиты населен...   \n",
       "1396  Благотворительный центр «Надежда»  официально ...   \n",
       "\n",
       "                                                Briefly      Goal  Result  \\\n",
       "58    Диагноз: перенесенная гипоксия тяжелой формы с...   25000.0   31094   \n",
       "97    Проект направлен на поддержку благотворительно...  500000.0  560685   \n",
       "453   Как оказать экстренную помощь искалеченному жи...   84720.0   85320   \n",
       "488   Просим Bас, помочь улучшить качество жизни леж...   45000.0   45100   \n",
       "701   Для того, чтобы Мурад чувствовал себя хорошо и...  567336.0  567372   \n",
       "1286  приобретение ростовых кукол и кукол-перчаток д...   65000.0    8987   \n",
       "1396  Ване 8 лет. Диагноз: Ранний детский аутизм - п...  107000.0   10202   \n",
       "\n",
       "      Donations            Start  ...      Started     Finished  \\\n",
       "58           46        20 января  ...       20 Jan   4 Feb 2020   \n",
       "97          124     31 июля 2018  ...  31 Jul 2018  29 Feb 2019   \n",
       "453         153  22 октября 2019  ...  22 Oct 2019       20 Feb   \n",
       "488           2   26 апреля 2014  ...  26 Apr 2014  26 Apr 2014   \n",
       "701         906     19 июня 2019  ...  19 Jun 2019       20 Feb   \n",
       "1286         26  6 сентября 2019  ...   6 Sep 2019       20 Mar   \n",
       "1396         41     13 июня 2019  ...  13 Jun 2019       20 Mar   \n",
       "\n",
       "                                                LeadBag  DaysLong  Cluster  \\\n",
       "58    ['диагноз', 'перенести', 'гипоксия', 'тяжёлый'...         0        0   \n",
       "97    ['проект', 'направить', 'поддержка', 'благотво...         0        4   \n",
       "453   ['оказать', 'экстренный', 'помощь', 'искалечит...         0        7   \n",
       "488   ['просить', 'ас', 'помочь', 'улучшить', 'качес...         0       11   \n",
       "701   ['мурад', 'чувствовать', 'оставаться', 'дом', ...         0       11   \n",
       "1286  ['приобретение', 'ростовый', 'кукла', 'кукла',...         0       10   \n",
       "1396  ['ван', 'год', 'диагноз', 'ранний', 'детский',...         0        1   \n",
       "\n",
       "                           Category Rate  \\\n",
       "58        дети_лечение_реабилитация  inf   \n",
       "97         социализация_возможности  inf   \n",
       "453                        животные  inf   \n",
       "488   взрослые_лечение_реабилитация  inf   \n",
       "701       дети_лечение_реабилитация  inf   \n",
       "1286       социализация_возможности  inf   \n",
       "1396      дети_лечение_реабилитация  inf   \n",
       "\n",
       "                                                  Names    Adr  NamesSimRate  \n",
       "58           ['Кольцова', 'Никиты', 'Никиты', 'Никита']   True            61  \n",
       "97    ['Цветаевой', 'Шиннед', 'Шиннед', 'Андрею', 'М...  False            40  \n",
       "453                                                  []  False             0  \n",
       "488   ['Казаков', 'Саше', 'Сашу', 'Сашу', 'Сашина', ...   True            58  \n",
       "701   ['Мурад', 'Мурад', 'Мурадом', 'Мурада', 'Гиршп...   True            77  \n",
       "1286                  ['Зелибобу', 'Бусинку', 'Кубика']  False            36  \n",
       "1396  ['Вани', 'Ваню', 'Ваня', 'Вани', 'Ваню', 'Ваня...   True            76  \n",
       "\n",
       "[7 rows x 25 columns]"
      ]
     },
     "execution_count": 15,
     "metadata": {},
     "output_type": "execute_result"
    }
   ],
   "source": [
    "df[np.isfinite(df['Rate'])==False] # смотрим, что это за бесконечные значения"
   ]
  },
  {
   "cell_type": "markdown",
   "metadata": {},
   "source": [
    "Данные в колонке Rate - это суммв сбора, поделенная на продолжительность сбора. Иногда продолжительность формально = 0 дней (причины: ошибки данных на площадке или при сборе датасета). При делении на 0 получились значения inf. Их невозможно обработать при обучении, поэтому от них надо избавиться или заменить inf средними/медианными значениями. К счастью, у нас таких всего 7, не так много, удалим их. ⬇︎"
   ]
  },
  {
   "cell_type": "code",
   "execution_count": 16,
   "metadata": {},
   "outputs": [],
   "source": [
    "df = df.replace([np.inf, -np.inf], np.nan) # сначала меняем inf на nan"
   ]
  },
  {
   "cell_type": "code",
   "execution_count": 17,
   "metadata": {},
   "outputs": [
    {
     "data": {
      "text/plain": [
       "Counter({False: 2038})"
      ]
     },
     "execution_count": 17,
     "metadata": {},
     "output_type": "execute_result"
    }
   ],
   "source": [
    "Counter(pd.isna(df['Rate'] == True)) # почему-то количество na не изменилось, все 2038 строк как бы не na (видимо, превращенные в na читаются как-то иначе)"
   ]
  },
  {
   "cell_type": "code",
   "execution_count": 18,
   "metadata": {},
   "outputs": [],
   "source": [
    "df = df.dropna(subset = [\"Rate\"]) # удаляем na"
   ]
  },
  {
   "cell_type": "code",
   "execution_count": 19,
   "metadata": {},
   "outputs": [
    {
     "data": {
      "text/plain": [
       "(2031, 25)"
      ]
     },
     "execution_count": 19,
     "metadata": {},
     "output_type": "execute_result"
    }
   ],
   "source": [
    "df.shape # хотя все na были false, все же они нашлись и удалились - ровно те 7 штук, которые появились из inf "
   ]
  },
  {
   "cell_type": "code",
   "execution_count": 20,
   "metadata": {},
   "outputs": [
    {
     "data": {
      "text/plain": [
       "Counter({True: 2031})"
      ]
     },
     "execution_count": 20,
     "metadata": {},
     "output_type": "execute_result"
    }
   ],
   "source": [
    "Counter(np.isfinite(df['Rate'])) # снова проверим, все ли значения в колонке - конечные числа (--> теперь да)"
   ]
  },
  {
   "cell_type": "code",
   "execution_count": 21,
   "metadata": {},
   "outputs": [
    {
     "name": "stdout",
     "output_type": "stream",
     "text": [
      "<class 'float'>\n"
     ]
    }
   ],
   "source": [
    "for i in df.Rate: # все значения float (впрочем, при наличии inf они тоже были float)\n",
    "    print(type(i))\n",
    "    break"
   ]
  },
  {
   "cell_type": "markdown",
   "metadata": {},
   "source": [
    "\\\n",
    "В датасете есть выбросы, избавимся от них. Все что ниже\\выше 1 и 99 квантилей, выбросим. ⬇︎ (это решение пришло просле проверки предсказаний на изначальном датасете с выбросами, избавление от них - улучшает результат). "
   ]
  },
  {
   "cell_type": "code",
   "execution_count": 186,
   "metadata": {},
   "outputs": [],
   "source": [
    "# keep values within interval\n",
    "df_norm = df[(df.Rate > df.Rate.quantile(0.01)) & (df.Rate < df.Rate.quantile(0.99))]"
   ]
  },
  {
   "cell_type": "code",
   "execution_count": 187,
   "metadata": {},
   "outputs": [
    {
     "data": {
      "text/plain": [
       "(1955, 25)"
      ]
     },
     "execution_count": 187,
     "metadata": {},
     "output_type": "execute_result"
    }
   ],
   "source": [
    "df_norm.shape # выбросы ушли"
   ]
  },
  {
   "cell_type": "code",
   "execution_count": 22,
   "metadata": {},
   "outputs": [],
   "source": [
    "# стоп-слова\n",
    "\n",
    "stop_words = stopwords.words('russian')\n",
    "stop_words.extend(['это', '–', '-', 'фонд', 'наш', 'помощь', 'помогать',\n",
    "                   'помочь', 'поддержать', 'поддержка', 'средство', 'который', 'весь',\n",
    "                   'благотворительный', 'пожертвовать', 'пожертвование', 'деньги', 'рубль', 'год', 'день', 'тысяча',\n",
    "                   'ваш', 'сегодня', 'завтра', 'этот', 'дать', 'проект', 'свой' ])"
   ]
  },
  {
   "cell_type": "code",
   "execution_count": 23,
   "metadata": {},
   "outputs": [],
   "source": [
    "# функция для предобработки текстов\n",
    "\n",
    "def prep(text):\n",
    "    clean_text = text.translate(str.maketrans('', '', '!\"#$%&\\'()*+,./:;<=>?@[\\\\]^_`{|}~«»№!—'))\n",
    "    clean_text = clean_text.translate(str.maketrans('', '', digits)) # удаляем цифры\n",
    "    clean_text = re.sub(\"-\", \" \", clean_text) # меняем тире на пробелы, т.к. maketrans их почему-то не выхватывает\n",
    "    #clean_text = re.sub(\"[a-zA-Z]\", \"\", clean_text)  # исключаем слова латиницей\n",
    "    clean_text = clean_text.lower() # приводим все к нижнему регистру\n",
    "    clean_text = clean_text.split() # разбиваем (токенизируем) по словам\n",
    "    \n",
    "    # можно возвращать слова без лемматизации\\стемминга\n",
    "    #words = [word for word in clean_text if word not in stop_words]\n",
    "    #return words\n",
    "    \n",
    "    lemmas = [morph_analyzer.parse(word)[0].normal_form for word in clean_text]\n",
    "    lemmas = [word for word in lemmas if word not in stop_words]\n",
    "    return lemmas\n",
    "    \n",
    "    #ниже - альтернатива лемматицации, можно их переключать (за/раскомменчивать)\n",
    "    #stemmer = RussianStemmer()\n",
    "    #stemmed_words = [stemmer.stem(word) for word in clean_text]\n",
    "    #return stemmed_words"
   ]
  },
  {
   "cell_type": "code",
   "execution_count": null,
   "metadata": {},
   "outputs": [],
   "source": []
  },
  {
   "cell_type": "markdown",
   "metadata": {},
   "source": [
    "### Векторизация"
   ]
  },
  {
   "cell_type": "markdown",
   "metadata": {},
   "source": [
    "Если векторизовать все тексты описаний из датасета и проверить объем (bag_of_words.shape), то мы увидим вокабуляр всего датасета. Это более 30.000 слов (лемм), то есть получается более 30.000 признаков, по которым модель должна предсказать сумму. Это очень много, результаты модели в таком случае - с отрицательным score. Поэтому в векторизатор добавим параметр max_features, то есть отставим только топовые признаки. В результате перебора вручную значений 10, 15, 20, 30, 50 и 100 - лучший результат у 30. TfiDf и Count векторизаторы показывают примерно одинаковый результат. Сокращение количества признаков положительно влияет на оба."
   ]
  },
  {
   "cell_type": "code",
   "execution_count": 307,
   "metadata": {},
   "outputs": [
    {
     "name": "stdout",
     "output_type": "stream",
     "text": [
      "CPU times: user 3min 15s, sys: 924 ms, total: 3min 16s\n",
      "Wall time: 3min 21s\n"
     ]
    }
   ],
   "source": [
    "%%time\n",
    "\n",
    "vec = TfidfVectorizer(tokenizer=prep, max_features = 30) # сократим длину вектора, иначе слишком много признаков\n",
    "bag_of_words = vec.fit_transform(df_norm.Description)"
   ]
  },
  {
   "cell_type": "code",
   "execution_count": 319,
   "metadata": {},
   "outputs": [
    {
     "data": {
      "text/plain": [
       "(1955, 30)"
      ]
     },
     "execution_count": 319,
     "metadata": {},
     "output_type": "execute_result"
    }
   ],
   "source": [
    "bag_of_words.shape # вокабуляр всего датасета более 30.000 слов (признаков), мы оставили 30 признаков"
   ]
  },
  {
   "cell_type": "markdown",
   "metadata": {},
   "source": [
    "### Обучение и оценка\n",
    "Для предсказания непрерывной переменной используются линейные модели. [В sklearn они описаны тут.](https://scikit-learn.org/stable/modules/classes.html#module-sklearn.linear_model) "
   ]
  },
  {
   "cell_type": "code",
   "execution_count": 142,
   "metadata": {},
   "outputs": [],
   "source": [
    "X_train, X_test, y_train, y_test = train_test_split(bag_of_words, df_norm.Rate, random_state=42) "
   ]
  },
  {
   "cell_type": "code",
   "execution_count": 144,
   "metadata": {},
   "outputs": [
    {
     "data": {
      "text/plain": [
       "0.017677628857102445"
      ]
     },
     "execution_count": 144,
     "metadata": {},
     "output_type": "execute_result"
    }
   ],
   "source": [
    "linreg = LinearRegression().fit(X_train, y_train) # вызов и обучение\n",
    "linreg.predict(X_test) # предсказание, # если числа очень дробные, jupyter выведет Scientific notation (экспоненциальная запись), дальше можно округлить\n",
    "linreg.score(X_test,y_test) # оценка"
   ]
  },
  {
   "cell_type": "code",
   "execution_count": 320,
   "metadata": {},
   "outputs": [
    {
     "data": {
      "text/html": [
       "<div>\n",
       "<style scoped>\n",
       "    .dataframe tbody tr th:only-of-type {\n",
       "        vertical-align: middle;\n",
       "    }\n",
       "\n",
       "    .dataframe tbody tr th {\n",
       "        vertical-align: top;\n",
       "    }\n",
       "\n",
       "    .dataframe thead th {\n",
       "        text-align: right;\n",
       "    }\n",
       "</style>\n",
       "<table border=\"1\" class=\"dataframe\">\n",
       "  <thead>\n",
       "    <tr style=\"text-align: right;\">\n",
       "      <th></th>\n",
       "      <th>predicted</th>\n",
       "      <th>fact</th>\n",
       "      <th>difference</th>\n",
       "    </tr>\n",
       "  </thead>\n",
       "  <tbody>\n",
       "    <tr>\n",
       "      <th>958</th>\n",
       "      <td>2605.32</td>\n",
       "      <td>1720.0</td>\n",
       "      <td>885.32</td>\n",
       "    </tr>\n",
       "    <tr>\n",
       "      <th>1772</th>\n",
       "      <td>2190.51</td>\n",
       "      <td>30.0</td>\n",
       "      <td>2160.51</td>\n",
       "    </tr>\n",
       "    <tr>\n",
       "      <th>1734</th>\n",
       "      <td>1695.33</td>\n",
       "      <td>100.0</td>\n",
       "      <td>1595.33</td>\n",
       "    </tr>\n",
       "    <tr>\n",
       "      <th>1270</th>\n",
       "      <td>1712.48</td>\n",
       "      <td>1240.0</td>\n",
       "      <td>472.48</td>\n",
       "    </tr>\n",
       "    <tr>\n",
       "      <th>1839</th>\n",
       "      <td>2624.10</td>\n",
       "      <td>60.0</td>\n",
       "      <td>2564.10</td>\n",
       "    </tr>\n",
       "    <tr>\n",
       "      <th>442</th>\n",
       "      <td>3051.03</td>\n",
       "      <td>780.0</td>\n",
       "      <td>2271.03</td>\n",
       "    </tr>\n",
       "    <tr>\n",
       "      <th>618</th>\n",
       "      <td>1428.83</td>\n",
       "      <td>760.0</td>\n",
       "      <td>668.83</td>\n",
       "    </tr>\n",
       "    <tr>\n",
       "      <th>259</th>\n",
       "      <td>2852.13</td>\n",
       "      <td>13520.0</td>\n",
       "      <td>-10667.87</td>\n",
       "    </tr>\n",
       "    <tr>\n",
       "      <th>1632</th>\n",
       "      <td>2489.21</td>\n",
       "      <td>180.0</td>\n",
       "      <td>2309.21</td>\n",
       "    </tr>\n",
       "    <tr>\n",
       "      <th>375</th>\n",
       "      <td>2702.06</td>\n",
       "      <td>240.0</td>\n",
       "      <td>2462.06</td>\n",
       "    </tr>\n",
       "  </tbody>\n",
       "</table>\n",
       "</div>"
      ],
      "text/plain": [
       "      predicted     fact  difference\n",
       "958     2605.32   1720.0      885.32\n",
       "1772    2190.51     30.0     2160.51\n",
       "1734    1695.33    100.0     1595.33\n",
       "1270    1712.48   1240.0      472.48\n",
       "1839    2624.10     60.0     2564.10\n",
       "442     3051.03    780.0     2271.03\n",
       "618     1428.83    760.0      668.83\n",
       "259     2852.13  13520.0   -10667.87\n",
       "1632    2489.21    180.0     2309.21\n",
       "375     2702.06    240.0     2462.06"
      ]
     },
     "execution_count": 320,
     "metadata": {},
     "output_type": "execute_result"
    }
   ],
   "source": [
    "# напечатаем таблицу сравненения предсказанных сумм и реальных\n",
    "\n",
    "compar = pd.DataFrame.from_dict({'predicted':linreg.predict(X_test), 'fact':y_test})\n",
    "compar['difference'] = compar.predicted - compar.fact\n",
    "compar.sample(n=10).round(2) # здесь можно регулировать округление и количество выводимых строк"
   ]
  },
  {
   "cell_type": "markdown",
   "metadata": {},
   "source": [
    "Сравним еще несколько моделей, линейных и один из ансабмлей (RandomForestRegressor). The goal of ensemble methods is to combine the predictions of several base estimators built with a given learning algorithm in order to improve generalizability/robustness over a single estimator. ⬇︎"
   ]
  },
  {
   "cell_type": "code",
   "execution_count": 148,
   "metadata": {},
   "outputs": [
    {
     "name": "stdout",
     "output_type": "stream",
     "text": [
      "0.01757492131245897\n"
     ]
    }
   ],
   "source": [
    "ridge = Ridge().fit(X_train, y_train)\n",
    "ridge.predict(X_test) # если числа очень дробные, jupyter выведет Scientific notation (экспоненциальная запись), дальше можно округлить\n",
    "print(ridge.score(X_test,y_test))"
   ]
  },
  {
   "cell_type": "code",
   "execution_count": 149,
   "metadata": {},
   "outputs": [
    {
     "name": "stdout",
     "output_type": "stream",
     "text": [
      "0.017236783894583052\n"
     ]
    }
   ],
   "source": [
    "lasso = Lasso().fit(X_train, y_train)\n",
    "lasso.predict(X_test)\n",
    "print(lasso.score(X_test,y_test))"
   ]
  },
  {
   "cell_type": "code",
   "execution_count": 150,
   "metadata": {},
   "outputs": [
    {
     "name": "stdout",
     "output_type": "stream",
     "text": [
      "-0.03423455612716153\n"
     ]
    },
    {
     "data": {
      "text/html": [
       "<div>\n",
       "<style scoped>\n",
       "    .dataframe tbody tr th:only-of-type {\n",
       "        vertical-align: middle;\n",
       "    }\n",
       "\n",
       "    .dataframe tbody tr th {\n",
       "        vertical-align: top;\n",
       "    }\n",
       "\n",
       "    .dataframe thead th {\n",
       "        text-align: right;\n",
       "    }\n",
       "</style>\n",
       "<table border=\"1\" class=\"dataframe\">\n",
       "  <thead>\n",
       "    <tr style=\"text-align: right;\">\n",
       "      <th></th>\n",
       "      <th>predicted</th>\n",
       "      <th>fact</th>\n",
       "      <th>difference</th>\n",
       "    </tr>\n",
       "  </thead>\n",
       "  <tbody>\n",
       "    <tr>\n",
       "      <th>586</th>\n",
       "      <td>2492.30</td>\n",
       "      <td>1310.0</td>\n",
       "      <td>1182.30</td>\n",
       "    </tr>\n",
       "    <tr>\n",
       "      <th>190</th>\n",
       "      <td>4232.10</td>\n",
       "      <td>20180.0</td>\n",
       "      <td>-15947.90</td>\n",
       "    </tr>\n",
       "    <tr>\n",
       "      <th>1158</th>\n",
       "      <td>3742.10</td>\n",
       "      <td>200.0</td>\n",
       "      <td>3542.10</td>\n",
       "    </tr>\n",
       "    <tr>\n",
       "      <th>656</th>\n",
       "      <td>1869.50</td>\n",
       "      <td>3920.0</td>\n",
       "      <td>-2050.50</td>\n",
       "    </tr>\n",
       "    <tr>\n",
       "      <th>1717</th>\n",
       "      <td>710.70</td>\n",
       "      <td>40.0</td>\n",
       "      <td>670.70</td>\n",
       "    </tr>\n",
       "    <tr>\n",
       "      <th>832</th>\n",
       "      <td>680.70</td>\n",
       "      <td>1040.0</td>\n",
       "      <td>-359.30</td>\n",
       "    </tr>\n",
       "    <tr>\n",
       "      <th>1861</th>\n",
       "      <td>2542.10</td>\n",
       "      <td>80.0</td>\n",
       "      <td>2462.10</td>\n",
       "    </tr>\n",
       "    <tr>\n",
       "      <th>572</th>\n",
       "      <td>1330.87</td>\n",
       "      <td>4070.0</td>\n",
       "      <td>-2739.13</td>\n",
       "    </tr>\n",
       "    <tr>\n",
       "      <th>440</th>\n",
       "      <td>3408.70</td>\n",
       "      <td>3660.0</td>\n",
       "      <td>-251.30</td>\n",
       "    </tr>\n",
       "    <tr>\n",
       "      <th>647</th>\n",
       "      <td>2776.30</td>\n",
       "      <td>1870.0</td>\n",
       "      <td>906.30</td>\n",
       "    </tr>\n",
       "  </tbody>\n",
       "</table>\n",
       "</div>"
      ],
      "text/plain": [
       "      predicted     fact  difference\n",
       "586     2492.30   1310.0     1182.30\n",
       "190     4232.10  20180.0   -15947.90\n",
       "1158    3742.10    200.0     3542.10\n",
       "656     1869.50   3920.0    -2050.50\n",
       "1717     710.70     40.0      670.70\n",
       "832      680.70   1040.0     -359.30\n",
       "1861    2542.10     80.0     2462.10\n",
       "572     1330.87   4070.0    -2739.13\n",
       "440     3408.70   3660.0     -251.30\n",
       "647     2776.30   1870.0      906.30"
      ]
     },
     "execution_count": 150,
     "metadata": {},
     "output_type": "execute_result"
    }
   ],
   "source": [
    "forest = RandomForestRegressor().fit(X_train, y_train) # вызов модели и обучение\n",
    "forest.predict(X_test) # предсказание\n",
    "print(forest.score(X_test,y_test)) # оценка\n",
    "\n",
    "compar_for = pd.DataFrame.from_dict({'predicted':forest.predict(X_test), 'fact':y_test})\n",
    "compar_for['difference'] = compar_for.predicted - compar_for.fact\n",
    "compar_for.sample(n=10).round(2)"
   ]
  },
  {
   "cell_type": "markdown",
   "metadata": {},
   "source": [
    "Комментарий к оценке. Метод .score показывает коэффициент детерминации (R^2 — R-квадрат). Его рассматривают как универсальную меру зависимости одной случайной величины от множества других. The coefficient R^2 is defined as (1 - u/v), where u is the residual sum of squares ((y_true - y_pred) ** 2).sum() and v is the total sum of squares ((y_true - y_true.mean()) ** 2).sum(). The best possible score is 1.0 and it can be negative (because the model can be arbitrarily worse). A constant model that always predicts the expected value of y, disregarding the input features, would get a R^2 score of 0.0.\n",
    "\n",
    "Итог. Результаты низкие, максимальный, которого удалось достичь с разными моделями и размерностью векторов: 0.0176 (Логрег). При этом все линейные модели показывают почти одинаковый результат. У ансамблей он намного хуже. "
   ]
  },
  {
   "cell_type": "markdown",
   "metadata": {},
   "source": [
    "Попробуем теперь разбить Rate на ранги. "
   ]
  },
  {
   "cell_type": "code",
   "execution_count": 222,
   "metadata": {},
   "outputs": [
    {
     "name": "stdout",
     "output_type": "stream",
     "text": [
      "190.0\n",
      "720.0\n",
      "2245.0\n"
     ]
    }
   ],
   "source": [
    "# Посмотрим, как распределены данные с точки зрения скорости сбора (вывод в рублях)\n",
    "\n",
    "print(df_norm.Rate.quantile(0.25))\n",
    "print(df_norm.Rate.quantile(0.50))\n",
    "print(df_norm.Rate.quantile(0.75))"
   ]
  },
  {
   "cell_type": "code",
   "execution_count": 309,
   "metadata": {},
   "outputs": [],
   "source": [
    "# функция для категоризации данных\n",
    "\n",
    "def df_ranking(df):\n",
    "    bins = [-np.inf, 600, 3000, np.inf] # эти значения будут границами разметки \n",
    "    labels = ['slow','moderate', 'fast'] # какие теги присвоить категориям \n",
    "    df['RateRank'] = pd.cut(df['Rate'], bins=bins, labels=labels) # pandas.cut allows to segment and sort data values into bins, пишем новую колонку с рангами\n",
    "    return(df)"
   ]
  },
  {
   "cell_type": "code",
   "execution_count": 310,
   "metadata": {},
   "outputs": [],
   "source": [
    "del df_ranked # для очистки переменной"
   ]
  },
  {
   "cell_type": "code",
   "execution_count": 311,
   "metadata": {},
   "outputs": [],
   "source": [
    "df_ranked = df_ranking(df_norm.copy()) # без .copy датасет, который подается в функцию, тоже будет изменен, а я хочу его сохранить для сравнения"
   ]
  },
  {
   "cell_type": "code",
   "execution_count": 312,
   "metadata": {},
   "outputs": [],
   "source": [
    "Xx_train, Xx_test, yy_train, yy_test = train_test_split(bag_of_words, df_ranked.RateRank, random_state=42) # повторим разбиение с новыми переменными, чтобы не стирать старые"
   ]
  },
  {
   "cell_type": "code",
   "execution_count": 313,
   "metadata": {},
   "outputs": [],
   "source": [
    "logreg = LogisticRegression(max_iter=5000).fit(Xx_train, yy_train) # обучаем"
   ]
  },
  {
   "cell_type": "code",
   "execution_count": 314,
   "metadata": {},
   "outputs": [
    {
     "name": "stdout",
     "output_type": "stream",
     "text": [
      "              precision    recall  f1-score   support\n",
      "\n",
      "        fast       0.41      0.09      0.15        96\n",
      "    moderate       0.45      0.35      0.40       171\n",
      "        slow       0.53      0.80      0.64       222\n",
      "\n",
      "    accuracy                           0.50       489\n",
      "   macro avg       0.46      0.41      0.39       489\n",
      "weighted avg       0.48      0.50      0.46       489\n",
      "\n"
     ]
    }
   ],
   "source": [
    "print(classification_report(yy_test, logreg.predict(Xx_test))) # тестируем"
   ]
  },
  {
   "cell_type": "markdown",
   "metadata": {},
   "source": [
    "⬆︎ При изменении границ категорий и их количества (3 или 4 ранга) оценки довольно существенно меняются. Если разбить четко по квартилям - низкие и консистентные, все в районе 30%, то есть, видимо, модель просто делит данные пропорционально. Это было обучение на векторах с max_features=30. Но с рангами можно попробовать вернуться к большим векторам.⬇︎ "
   ]
  },
  {
   "cell_type": "code",
   "execution_count": 315,
   "metadata": {},
   "outputs": [
    {
     "name": "stdout",
     "output_type": "stream",
     "text": [
      "CPU times: user 3min 10s, sys: 662 ms, total: 3min 11s\n",
      "Wall time: 3min 13s\n"
     ]
    }
   ],
   "source": [
    "%%time\n",
    "\n",
    "vec_full = TfidfVectorizer(tokenizer=prep) # убрали max_features\n",
    "bag_of_words_full = vec_full.fit_transform(df_ranked.Description)"
   ]
  },
  {
   "cell_type": "code",
   "execution_count": 316,
   "metadata": {},
   "outputs": [
    {
     "name": "stdout",
     "output_type": "stream",
     "text": [
      "              precision    recall  f1-score   support\n",
      "\n",
      "        fast       0.70      0.17      0.27        96\n",
      "    moderate       0.48      0.42      0.45       171\n",
      "        slow       0.58      0.82      0.68       222\n",
      "\n",
      "    accuracy                           0.55       489\n",
      "   macro avg       0.59      0.47      0.47       489\n",
      "weighted avg       0.57      0.55      0.52       489\n",
      "\n"
     ]
    }
   ],
   "source": [
    "Xxx_train, Xxx_test, yyy_train, yyy_test = train_test_split(bag_of_words_full, df_ranked.RateRank, random_state=42)\n",
    "logreg = LogisticRegression(max_iter=5000).fit(Xxx_train, yyy_train) # обучаем\n",
    "print(classification_report(yyy_test, logreg.predict(Xxx_test))) # тестируем"
   ]
  },
  {
   "cell_type": "markdown",
   "metadata": {},
   "source": [
    "С полными векторами результат лучше! "
   ]
  },
  {
   "cell_type": "markdown",
   "metadata": {},
   "source": [
    "## Общий вывод. \n",
    "Механизм работает, и теоретически на практике такую модель можно было бы использовать для оценки примерного потенциала написанного текста. Хотя пока качество предсказания очень низкое, но есть ощушение, что оно не бессмысленное и его можно повышать: пробуя другие модели, настраивая гиперпараметры, меняя размерность векторов, меняя способ векторизации текстов.\\\n",
    "В частности, векторизовать тексты можно с помощью word2vec (gensim, rusvectores или обучать свою, допустим, doc2vec). Но нужно разобраться с тем, как зафиттить векторы на свои данные (метода fit_transform, как у CounVectorizer и TfidfVectorizer, у них нет) и получить на выходе scipy.sparse.csr.csr_matrix (как bag_of_words = vec.fit_transform(df.Description)) для подачи в train_test_split. При этом, видимо, для предсказания непрерывной переменной, то есть суммы, а не ранга, понадобится сокращение размерности вектора, так как практика показала что даже 50 признаков - слишком много для моделей, а минимальная размерность предобученных моделей word2vec (rusvectores) - 100. "
   ]
  },
  {
   "cell_type": "raw",
   "metadata": {},
   "source": []
  },
  {
   "cell_type": "code",
   "execution_count": null,
   "metadata": {},
   "outputs": [],
   "source": []
  }
 ],
 "metadata": {
  "kernelspec": {
   "display_name": "Python 3",
   "language": "python",
   "name": "python3"
  },
  "language_info": {
   "codemirror_mode": {
    "name": "ipython",
    "version": 3
   },
   "file_extension": ".py",
   "mimetype": "text/x-python",
   "name": "python",
   "nbconvert_exporter": "python",
   "pygments_lexer": "ipython3",
   "version": "3.8.2"
  }
 },
 "nbformat": 4,
 "nbformat_minor": 4
}
